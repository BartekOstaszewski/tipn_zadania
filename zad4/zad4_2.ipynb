{
 "cells": [
  {
   "cell_type": "code",
   "execution_count": 21,
   "metadata": {},
   "outputs": [],
   "source": [
    "#Średnia z przedmiotów przez input"
   ]
  },
  {
   "cell_type": "code",
   "execution_count": 22,
   "metadata": {},
   "outputs": [],
   "source": [
    "przedmioty = []\n",
    "przedmioty.append(\"metodologia\")\n",
    "przedmioty.append(\"ogólna\")\n",
    "przedmioty.append(\"tipn\")\n",
    "przedmioty.append(\"filozofia\")\n",
    "przedmioty.append(\"angielski\")"
   ]
  },
  {
   "cell_type": "code",
   "execution_count": 23,
   "metadata": {},
   "outputs": [
    {
     "name": "stdin",
     "output_type": "stream",
     "text": [
      "Podaj ocenę z metodologia: 2\n",
      "Podaj ocenę z ogólna: 3\n",
      "Podaj ocenę z tipn: 4\n",
      "Podaj ocenę z filozofia: 5\n",
      "Podaj ocenę z angielski: 6\n"
     ]
    }
   ],
   "source": [
    "oceny = []\n",
    "ocena = input(\"Podaj ocenę z \" + przedmioty[0] + \":\")\n",
    "oceny.append(float(ocena))\n",
    "ocena = input(\"Podaj ocenę z \" + przedmioty[1] + \":\")\n",
    "oceny.append(float(ocena))\n",
    "ocena = input(\"Podaj ocenę z \" + przedmioty[2] + \":\")\n",
    "oceny.append(float(ocena))\n",
    "ocena = input(\"Podaj ocenę z \" + przedmioty[3] + \":\")\n",
    "oceny.append(float(ocena))\n",
    "ocena = input(\"Podaj ocenę z \" + przedmioty[4] + \":\")\n",
    "oceny.append(float(ocena))\n"
   ]
  },
  {
   "cell_type": "code",
   "execution_count": 24,
   "metadata": {},
   "outputs": [],
   "source": [
    "suma = sum(oceny)\n",
    "liczba = len(oceny)\n",
    "srednia = suma / liczba"
   ]
  },
  {
   "cell_type": "code",
   "execution_count": 25,
   "metadata": {},
   "outputs": [
    {
     "data": {
      "text/plain": [
       "4.0"
      ]
     },
     "execution_count": 25,
     "metadata": {},
     "output_type": "execute_result"
    }
   ],
   "source": [
    "srednia"
   ]
  },
  {
   "cell_type": "code",
   "execution_count": null,
   "metadata": {},
   "outputs": [],
   "source": []
  }
 ],
 "metadata": {
  "kernelspec": {
   "display_name": "Python 3",
   "language": "python",
   "name": "python3"
  },
  "language_info": {
   "codemirror_mode": {
    "name": "ipython",
    "version": 3
   },
   "file_extension": ".py",
   "mimetype": "text/x-python",
   "name": "python",
   "nbconvert_exporter": "python",
   "pygments_lexer": "ipython3",
   "version": "3.7.0"
  }
 },
 "nbformat": 4,
 "nbformat_minor": 2
}
