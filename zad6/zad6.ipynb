{
 "cells": [
  {
   "cell_type": "code",
   "execution_count": 14,
   "metadata": {},
   "outputs": [],
   "source": [
    "#Test osobowości\n",
    "\n",
    "#opis skali\n",
    "opis_skali = \"[(1) oznacza zupełnie się nie zgadzam a (5) oznacza całkowicie się zgadzam]\""
   ]
  },
  {
   "cell_type": "code",
   "execution_count": 15,
   "metadata": {},
   "outputs": [],
   "source": [
    "#treść pytań\n",
    "pytania =[]\n",
    "pytania.append(\"pyt1\")\n",
    "pytania.append(\"pyt2\")\n",
    "pytania.append(\"pyt3\")\n",
    "pytania.append(\"pyt4\")\n",
    "pytania.append(\"pyt5\")"
   ]
  },
  {
   "cell_type": "code",
   "execution_count": 16,
   "metadata": {},
   "outputs": [
    {
     "name": "stdout",
     "output_type": "stream",
     "text": [
      "Test osobowości: 5 pytań.\n"
     ]
    }
   ],
   "source": [
    "print(\"Test osobowości: \" + str(len(pytania)) + \" pytań.\") "
   ]
  },
  {
   "cell_type": "code",
   "execution_count": 17,
   "metadata": {},
   "outputs": [],
   "source": [
    "#definicja funkcji zadaj_pytanie\n",
    "\n",
    "def zadaj_pytanie(pytanie):\n",
    "    odp = input(pytanie)\n",
    "    return odp\n"
   ]
  },
  {
   "cell_type": "code",
   "execution_count": 19,
   "metadata": {},
   "outputs": [
    {
     "name": "stdin",
     "output_type": "stream",
     "text": [
      "1. Jak bardzo zgadzasz się z określeniem: pyt1 [(1) oznacza zupełnie się nie zgadzam a (5) oznacza całkowicie się zgadzam] ?  1\n",
      "2. Jak bardzo zgadzasz się z określeniem: pyt2 [(1) oznacza zupełnie się nie zgadzam a (5) oznacza całkowicie się zgadzam] ?  1\n",
      "3. Jak bardzo zgadzasz się z określeniem: pyt3 [(1) oznacza zupełnie się nie zgadzam a (5) oznacza całkowicie się zgadzam] ?  1\n",
      "4. Jak bardzo zgadzasz się z określeniem: pyt4 [(1) oznacza zupełnie się nie zgadzam a (5) oznacza całkowicie się zgadzam] ?  2\n",
      "5. Jak bardzo zgadzasz się z określeniem: pyt5 [(1) oznacza zupełnie się nie zgadzam a (5) oznacza całkowicie się zgadzam] ?  2\n"
     ]
    },
    {
     "name": "stdout",
     "output_type": "stream",
     "text": [
      "Suma wyników:7\n"
     ]
    }
   ],
   "source": [
    "suma = 0\n",
    "\n",
    "for n in range(0, len(pytania)):\n",
    "    odp = zadaj_pytanie( str(n+1) + \". Jak bardzo zgadzasz się z określeniem: \" + pytania[n] + \" \" + opis_skali + \" ? \")\n",
    "    suma = suma + int(odp)\n",
    "\n",
    "print(\"Suma wyników:\" + str(suma))"
   ]
  },
  {
   "cell_type": "code",
   "execution_count": null,
   "metadata": {},
   "outputs": [],
   "source": []
  }
 ],
 "metadata": {
  "kernelspec": {
   "display_name": "Python 3",
   "language": "python",
   "name": "python3"
  },
  "language_info": {
   "codemirror_mode": {
    "name": "ipython",
    "version": 3
   },
   "file_extension": ".py",
   "mimetype": "text/x-python",
   "name": "python",
   "nbconvert_exporter": "python",
   "pygments_lexer": "ipython3",
   "version": "3.7.0"
  }
 },
 "nbformat": 4,
 "nbformat_minor": 2
}
