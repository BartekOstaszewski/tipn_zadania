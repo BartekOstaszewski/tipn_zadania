{
 "cells": [
  {
   "cell_type": "code",
   "execution_count": 2,
   "metadata": {},
   "outputs": [],
   "source": [
    "#Test osobowości\n",
    "\n",
    "#opis skali\n",
    "opis_skali = \"[(1) oznacza zupełnie się nie zgadzam a (5) oznacza całkowicie się zgadzam]\""
   ]
  },
  {
   "cell_type": "code",
   "execution_count": 3,
   "metadata": {},
   "outputs": [],
   "source": [
    "#treść pytań\n",
    "\n",
    "pytania =[]\n",
    "pytania.append(\"Lubię zwierzęta.\")\n",
    "pytania.append(\"Lubię przebywać z ludźmi.\")\n",
    "pytania.append(\"Przebywanie w miejscach publicznych nie budzi we mnie niepokoju.\")\n",
    "pytania.append(\"Lubię nowe doświadczenia.\")\n",
    "pytania.append(\"Lubię podróże.\")"
   ]
  },
  {
   "cell_type": "code",
   "execution_count": 7,
   "metadata": {},
   "outputs": [],
   "source": [
    "#definicja funkcji zadaj_pytanie\n",
    "\n",
    "def zadaj_pytanie(pytanie):\n",
    "    odp = int(input(pytanie))\n",
    "    return odp\n"
   ]
  },
  {
   "cell_type": "code",
   "execution_count": null,
   "metadata": {},
   "outputs": [
    {
     "name": "stdout",
     "output_type": "stream",
     "text": [
      "Test osobowości: 5 pytań.\n"
     ]
    }
   ],
   "source": [
    "#Program\n",
    "\n",
    "print(\"Test osobowości: \" + str(len(pytania)) + \" pytań.\") \n",
    "\n",
    "suma = 0\n",
    "\n",
    "for n in range(0, len(pytania)):\n",
    "    odp = zadaj_pytanie( str(n+1) + \". Jak bardzo zgadzasz się z określeniem (w skali od 1 do 5): '\" + pytania[n] + \"' \\n\\r\" + opis_skali + \" ? \")\n",
    "    suma = suma + odp\n",
    "    \n",
    "print(\"Suma wyników:\" + str(suma))\n",
    "\n",
    "if suma>15:\n",
    "    print (\"jesteś otwartą osobą\")\n",
    "else:\n",
    "    print (\"jesteś raczej zamkniętą w sobie osobą\")\n",
    "   "
   ]
  },
  {
   "cell_type": "code",
   "execution_count": null,
   "metadata": {},
   "outputs": [],
   "source": []
  }
 ],
 "metadata": {
  "kernelspec": {
   "display_name": "Python 3",
   "language": "python",
   "name": "python3"
  },
  "language_info": {
   "codemirror_mode": {
    "name": "ipython",
    "version": 3
   },
   "file_extension": ".py",
   "mimetype": "text/x-python",
   "name": "python",
   "nbconvert_exporter": "python",
   "pygments_lexer": "ipython3",
   "version": "3.7.0"
  }
 },
 "nbformat": 4,
 "nbformat_minor": 2
}
